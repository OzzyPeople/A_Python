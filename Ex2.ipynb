{
 "cells": [
  {
   "cell_type": "markdown",
   "metadata": {},
   "source": [
    "1. Задание на закрепление знаний по модулю CSV. Написать скрипт, осуществляющий выборку определенных данных из файлов info_1.txt, info_2.txt, info_3.txt и формирующий новый «отчетный» файл в формате CSV. "
   ]
  },
  {
   "cell_type": "code",
   "execution_count": 42,
   "metadata": {},
   "outputs": [],
   "source": [
    "import csv\n",
    "import chardet #распознования кодировки \n",
    "from pprint import pprint\n",
    "import json"
   ]
  },
  {
   "cell_type": "code",
   "execution_count": 55,
   "metadata": {},
   "outputs": [],
   "source": [
    "encode = None"
   ]
  },
  {
   "cell_type": "code",
   "execution_count": 59,
   "metadata": {},
   "outputs": [
    {
     "name": "stdout",
     "output_type": "stream",
     "text": [
      "['Имя узла:                         Comp1\\n', 'Название ОС:                      Microsoft Windows 7 Профессиональная \\n', 'Версия ОС:                        6.1.7601 Service Pack 1 сборка 7601\\n', 'Изготовитель ОС:                  Microsoft Corporation\\n', 'Параметры ОС:                     Рядовая рабочая станция\\n', 'Сборка ОС:                        Multiprocessor Free\\n', 'Зарегистрированный владелец:      User\\n', 'Зарегистрированная организация:   \\n', 'Код продукта:                     00971-OEM-1982661-00231\\n', 'Дата установки:                   11.10.2013, 10:18:05\\n', 'Время работы системы:             0 дн., 4 час., 41 мин, 0 сек.\\n', 'Изготовитель системы:             LENOVO\\n', 'Модель системы:                   3538F2G\\n', 'Тип системы:                      x64-based PC\\n', 'Процессор(ы):                     Число процессоров - 1.\\n', '                                  [01]: Intel64 Family 6 Model 42 Stepping 7 GenuineIntel ~3400 МГц\\n', 'Версия BIOS:                      LENOVO - 1390\\n', 'Папка Windows:                    C:\\\\Windows\\n', 'Системная папка:                  C:\\\\Windows\\\\system32\\n', 'Устройство загрузки:              \\\\Device\\\\HarddiskVolume1\\n', 'Язык системы:                     ru;Русский\\n', 'Язык ввода:                       en-us;Английский (США)\\n', 'Часовой пояс:                     (UTC+04:00) Волгоград, Москва, Санкт-Петербург\\n', 'Полный объем физической памяти:   3 914 МБ\\n', 'Доступная физическая память:      2 299 МБ\\n', 'Виртуальная память: Макс. размер: 7 826 МБ\\n', 'Виртуальная память: доступно:     6 139 МБ\\n', 'Виртуальная память: используется: 1 687 МБ\\n', 'Расположение файла подкачки:      Н/Д\\n', 'Домен:                            net\\n', 'Сервер входа в сеть:              Н/Д\\n', 'Исправление(я):                   Число установленных исправлений - 74.\\n', '                                  [01]: KB982861\\n', '                                  [02]: 982861\\n', '. . .                                   \\n', '                       [74]: KB982018\\n', 'Неизвестные сетевые адаптеры:     Число сетевых адаптеров - 1.\\n', '                                  [01]: Realtek PCIe GBE Family Controller\\n', '                                        Имя подключения: Подключение по локальной сети\\n', '                                        DHCP включен:    Нет\\n', '                                        IP-адрес\\n', '                                        [01]: 192.168.0.4']\n"
     ]
    }
   ],
   "source": [
    "with open('data1/info_1.txt', 'rb') as file:\n",
    "    encode = chardet.detect(file.read(64))\n",
    "ls = []\n",
    "with open('data1/info_1.txt', 'r', encoding = encode['encoding']) as file:\n",
    "    for line in file:\n",
    "        ls.append(line)\n",
    "print (ls)"
   ]
  },
  {
   "cell_type": "code",
   "execution_count": 61,
   "metadata": {},
   "outputs": [],
   "source": [
    "with open('data1/new.csv', 'w', newline='') as myfile:\n",
    "    wr = csv.writer(myfile, quoting=csv.QUOTE_ALL)\n",
    "    wr.writerow(ls)"
   ]
  },
  {
   "cell_type": "markdown",
   "metadata": {},
   "source": [
    "2. Задание на закрепление знаний по модулю json. Есть файл orders в формате JSON с информацией о заказах. Написать скрипт, автоматизирующий его заполнение данными."
   ]
  },
  {
   "cell_type": "code",
   "execution_count": 43,
   "metadata": {},
   "outputs": [
    {
     "name": "stdout",
     "output_type": "stream",
     "text": [
      "{'orders': []}\n"
     ]
    }
   ],
   "source": [
    "with open ('data1/orders.json') as file:\n",
    "    pprint(json.load(file))"
   ]
  },
  {
   "cell_type": "code",
   "execution_count": 47,
   "metadata": {},
   "outputs": [
    {
     "name": "stdout",
     "output_type": "stream",
     "text": [
      "Введите номер заказа25\n"
     ]
    }
   ],
   "source": [
    "with open('data1/orders.json', 'w', encoding='utf-8') as file:\n",
    "    entry_value = input('Введите номер заказа ')\n",
    "    entry = {'orders': entry_value}\n",
    "    feeds =[]\n",
    "    feeds.append(entry)\n",
    "    json.dump(feeds, file)"
   ]
  },
  {
   "cell_type": "code",
   "execution_count": 48,
   "metadata": {},
   "outputs": [
    {
     "name": "stdout",
     "output_type": "stream",
     "text": [
      "[{'orders': '25'}]\n"
     ]
    }
   ],
   "source": [
    "with open ('data1/orders.json') as file:\n",
    "    pprint(json.load(file))"
   ]
  },
  {
   "cell_type": "markdown",
   "metadata": {},
   "source": [
    "3. Задание на закрепление знаний по модулю YAML. Написать скрипт, автоматизирующий сохранение данных в файле YAML-формата."
   ]
  },
  {
   "cell_type": "code",
   "execution_count": null,
   "metadata": {},
   "outputs": [],
   "source": []
  }
 ],
 "metadata": {
  "kernelspec": {
   "display_name": "Python 3",
   "language": "python",
   "name": "python3"
  },
  "language_info": {
   "codemirror_mode": {
    "name": "ipython",
    "version": 3
   },
   "file_extension": ".py",
   "mimetype": "text/x-python",
   "name": "python",
   "nbconvert_exporter": "python",
   "pygments_lexer": "ipython3",
   "version": "3.7.3"
  }
 },
 "nbformat": 4,
 "nbformat_minor": 2
}
