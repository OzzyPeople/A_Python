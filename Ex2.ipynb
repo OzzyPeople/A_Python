{
 "cells": [
  {
   "cell_type": "markdown",
   "metadata": {},
   "source": [
    "Декодирование текстов файлов с 4-х типов кодировки ['windows-1251', 'ISO-8859-9', 'MacCyrillic', 'ascii'], парсинг текстов при помощи REGEX, сохранение и чтение в json, csv, yaml "
   ]
  },
  {
   "cell_type": "markdown",
   "metadata": {},
   "source": [
    "1. Задание на закрепление знаний по модулю CSV. Написать скрипт, осуществляющий выборку определенных данных из файлов info_1.txt, info_2.txt, info_3.txt и формирующий новый «отчетный» файл в формате CSV. "
   ]
  },
  {
   "cell_type": "code",
   "execution_count": 13,
   "metadata": {},
   "outputs": [],
   "source": [
    "import csv\n",
    "import chardet #распознования кодировки \n",
    "from pprint import pprint\n",
    "import json\n",
    "import re"
   ]
  },
  {
   "cell_type": "markdown",
   "metadata": {},
   "source": [
    "**Переведем в нужную кодировку и прочитаем файл**"
   ]
  },
  {
   "cell_type": "code",
   "execution_count": 154,
   "metadata": {},
   "outputs": [
    {
     "name": "stdout",
     "output_type": "stream",
     "text": [
      "Имя узла:                         Comp1\n",
      "Название ОС:                      Microsoft Windows 7 Профессиональная \n",
      "Версия ОС:                        6.1.7601 Service Pack 1 сборка 7601\n",
      "Изготовитель ОС:                  Microsoft Corporation\n",
      "Параметры ОС:                     Рядовая рабочая станция\n",
      "Сборка ОС:                        Multiprocessor Free\n",
      "Зарегистрированный владелец:      User\n",
      "Зарегистрированная организация:   \n",
      "Код продукта:                     00971-OEM-1982661-00231\n",
      "Дата установки:                   11.10.2013, 10:18:05\n",
      "Время работы системы:             0 дн., 4 час., 41 мин, 0 сек.\n",
      "Изготовитель системы:             LENOVO\n",
      "Модель системы:                   3538F2G\n",
      "Тип системы:                      x64-based PC\n",
      "Процессор(ы):                     Число процессоров - 1.\n",
      "                                  [01]: Intel64 Family 6 Model 42 Stepping 7 GenuineIntel ~3400 МГц\n",
      "Версия BIOS:                      LENOVO - 1390\n",
      "Папка Windows:                    C:\\Windows\n",
      "Системная папка:                  C:\\Windows\\system32\n",
      "Устройство загрузки:              \\Device\\HarddiskVolume1\n",
      "Язык системы:                     ru;Русский\n",
      "Язык ввода:                       en-us;Английский (США)\n",
      "Часовой пояс:                     (UTC+04:00) Волгоград, Москва, Санкт-Петербург\n",
      "Полный объем физической памяти:   3 914 МБ\n",
      "Доступная физическая память:      2 299 МБ\n",
      "Виртуальная память: Макс. размер: 7 826 МБ\n",
      "Виртуальная память: доступно:     6 139 МБ\n",
      "Виртуальная память: используется: 1 687 МБ\n",
      "Расположение файла подкачки:      Н/Д\n",
      "Домен:                            net\n",
      "Сервер входа в сеть:              Н/Д\n",
      "Исправление(я):                   Число установленных исправлений - 74.\n",
      "                                  [01]: KB982861\n",
      "                                  [02]: 982861\n",
      ". . .                                   \n",
      "                       [74]: KB982018\n",
      "Неизвестные сетевые адаптеры:     Число сетевых адаптеров - 1.\n",
      "                                  [01]: Realtek PCIe GBE Family Controller\n",
      "                                        Имя подключения: Подключение по локальной сети\n",
      "                                        DHCP включен:    Нет\n",
      "                                        IP-адрес\n",
      "                                        [01]: 192.168.0.4\n"
     ]
    }
   ],
   "source": [
    "encode = None\n",
    "b = ''\n",
    "with open('data1/info_1.txt', 'rb') as file:\n",
    "    encode = chardet.detect(file.read(64)) #идем по количеству линий\n",
    "    \n",
    "#Прочитаем файл\n",
    "with open('data1/info_1.txt', 'r', encoding = encode['encoding']) as file:\n",
    "    print (file.read())"
   ]
  },
  {
   "cell_type": "code",
   "execution_count": 155,
   "metadata": {},
   "outputs": [],
   "source": [
    "d_r = {} #создадим словарь для записи ключей и значений. Ключ это текст до двоеточия, значение - это текст после.\n",
    "pattern0 =r'(:)' #поиск первого двоеточия\n",
    "pattern2 = r'(\\:).(\\s*)' #расстояние от двоеточия до конца пробела\n",
    "pattern1 =r'(([^ .].*))' #все слова, но без пробелов и точек сначала \n",
    "\n",
    "with open('data1/info_1.txt', 'r', encoding = encode['encoding']) as file:\n",
    "    text_continue = '' #создаем пустой текст для строчек, где нет двоеточия \n",
    "    for line in file:\n",
    "        if re.search(pattern0,line): #если в строке есть двоеточие \n",
    "            m = re.search(pattern2,line) #находим промежуток пробелов от двоеточия до первого слова\n",
    "            \n",
    "            #читаем первую часть (будущий ключ словаря) текста до двоеточия\n",
    "            line1 = re.sub(\"\\n\", \"\", line[:m.start()])#выделяем первую часть - ключ, убирая сразу \\n - символ новых строк \n",
    "            m_line1 = re.search(pattern1,line1)[0] #ищем только слова без пробелов и точек сначала \n",
    "            line1_f = f'{text_continue}{m_line1}'\n",
    "            \n",
    "            #читаем вторую часть текста (будущее значение словаря) после двоеточия\n",
    "            line2_f = line[m.end():]\n",
    "            \n",
    "            #наполняем словарь значениями \n",
    "            d_r [line1_f] = re.sub(\"\\n\", \"\", line2_f) #убираем новые строки\n",
    "        else: #если в строке нет двоеточия \n",
    "            m_line1 = re.search(pattern1,line)[0]\n",
    "            text_continue = re.sub(\"\\n\", \"\", m_line1)\n",
    "            continue"
   ]
  },
  {
   "cell_type": "code",
   "execution_count": 156,
   "metadata": {},
   "outputs": [
    {
     "data": {
      "text/plain": [
       "{'Имя узла': 'Comp1',\n",
       " 'Название ОС': 'Microsoft Windows 7 Профессиональная ',\n",
       " 'Версия ОС': '6.1.7601 Service Pack 1 сборка 7601',\n",
       " 'Изготовитель ОС': 'Microsoft Corporation',\n",
       " 'Параметры ОС': 'Рядовая рабочая станция',\n",
       " 'Сборка ОС': 'Multiprocessor Free',\n",
       " 'Зарегистрированный владелец': 'User',\n",
       " 'Зарегистрированная организация': '',\n",
       " 'Код продукта': '00971-OEM-1982661-00231',\n",
       " 'Дата установки': '11.10.2013, 10:18:05',\n",
       " 'Время работы системы': '0 дн., 4 час., 41 мин, 0 сек.',\n",
       " 'Изготовитель системы': 'LENOVO',\n",
       " 'Модель системы': '3538F2G',\n",
       " 'Тип системы': 'x64-based PC',\n",
       " 'Процессор(ы)': 'Число процессоров - 1.',\n",
       " '[01]': 'Realtek PCIe GBE Family Controller',\n",
       " 'Версия BIOS': 'LENOVO - 1390',\n",
       " 'Папка Windows': 'C:\\\\Windows',\n",
       " 'Системная папка': 'C:\\\\Windows\\\\system32',\n",
       " 'Устройство загрузки': '\\\\Device\\\\HarddiskVolume1',\n",
       " 'Язык системы': 'ru;Русский',\n",
       " 'Язык ввода': 'en-us;Английский (США)',\n",
       " 'Часовой пояс': '(UTC+04:00) Волгоград, Москва, Санкт-Петербург',\n",
       " 'Полный объем физической памяти': '3 914 МБ',\n",
       " 'Доступная физическая память': '2 299 МБ',\n",
       " 'Виртуальная память': 'используется: 1 687 МБ',\n",
       " 'Расположение файла подкачки': 'Н/Д',\n",
       " 'Домен': 'net',\n",
       " 'Сервер входа в сеть': 'Н/Д',\n",
       " 'Исправление(я)': 'Число установленных исправлений - 74.',\n",
       " '[02]': '982861',\n",
       " '[74]': 'KB982018',\n",
       " 'Неизвестные сетевые адаптеры': 'Число сетевых адаптеров - 1.',\n",
       " 'Имя подключения': 'Подключение по локальной сети',\n",
       " 'DHCP включен': 'Нет',\n",
       " 'IP-адрес[01]': '192.168.0.4'}"
      ]
     },
     "execution_count": 156,
     "metadata": {},
     "output_type": "execute_result"
    }
   ],
   "source": [
    "#Посмотрим на результат\n",
    "d_r"
   ]
  },
  {
   "cell_type": "code",
   "execution_count": 158,
   "metadata": {},
   "outputs": [],
   "source": [
    "#Сохранием данные в csv из словаря\n",
    "with open('data1/dict_to_csv.csv', 'w') as f:\n",
    "    for key in d_r.keys():\n",
    "        f.write(\"%s,%s\\n\"%(key,d_r[key]))"
   ]
  },
  {
   "cell_type": "markdown",
   "metadata": {},
   "source": [
    "2. Задание на закрепление знаний по модулю json. Есть файл orders в формате JSON с информацией о заказах. Написать скрипт, автоматизирующий его заполнение данными."
   ]
  },
  {
   "cell_type": "code",
   "execution_count": 43,
   "metadata": {},
   "outputs": [
    {
     "name": "stdout",
     "output_type": "stream",
     "text": [
      "{'orders': []}\n"
     ]
    }
   ],
   "source": [
    "with open ('data1/orders.json') as file:\n",
    "    pprint(json.load(file))"
   ]
  },
  {
   "cell_type": "code",
   "execution_count": 47,
   "metadata": {},
   "outputs": [
    {
     "name": "stdout",
     "output_type": "stream",
     "text": [
      "Введите номер заказа25\n"
     ]
    }
   ],
   "source": [
    "with open('data1/orders.json', 'w', encoding='utf-8') as file:\n",
    "    entry_value = input('Введите номер заказа ')\n",
    "    entry = {'orders': entry_value}\n",
    "    feeds =[]\n",
    "    feeds.append(entry)\n",
    "    json.dump(feeds, file)"
   ]
  },
  {
   "cell_type": "code",
   "execution_count": 48,
   "metadata": {},
   "outputs": [
    {
     "name": "stdout",
     "output_type": "stream",
     "text": [
      "[{'orders': '25'}]\n"
     ]
    }
   ],
   "source": [
    "with open ('data1/orders.json') as file:\n",
    "    pprint(json.load(file))"
   ]
  },
  {
   "cell_type": "markdown",
   "metadata": {},
   "source": [
    "3. Задание на закрепление знаний по модулю YAML. Написать скрипт, автоматизирующий сохранение данных в файле YAML-формата."
   ]
  },
  {
   "cell_type": "code",
   "execution_count": 161,
   "metadata": {},
   "outputs": [],
   "source": [
    "import yaml"
   ]
  },
  {
   "cell_type": "code",
   "execution_count": 162,
   "metadata": {},
   "outputs": [],
   "source": [
    "#Создаем файл из словаря, который мы уже сделали в первом задании\n",
    "\n",
    "with open ('data1/dictyaml.yml', 'w') as file:\n",
    "    yaml.safe_dump(d_r, file)"
   ]
  },
  {
   "cell_type": "code",
   "execution_count": 163,
   "metadata": {},
   "outputs": [
    {
     "name": "stdout",
     "output_type": "stream",
     "text": [
      "{'DHCP включен': 'Нет',\n",
      " 'IP-адрес[01]': '192.168.0.4',\n",
      " '[01]': 'Realtek PCIe GBE Family Controller',\n",
      " '[02]': '982861',\n",
      " '[74]': 'KB982018',\n",
      " 'Версия BIOS': 'LENOVO - 1390',\n",
      " 'Версия ОС': '6.1.7601 Service Pack 1 сборка 7601',\n",
      " 'Виртуальная память': 'используется: 1 687 МБ',\n",
      " 'Время работы системы': '0 дн., 4 час., 41 мин, 0 сек.',\n",
      " 'Дата установки': '11.10.2013, 10:18:05',\n",
      " 'Домен': 'net',\n",
      " 'Доступная физическая память': '2 299 МБ',\n",
      " 'Зарегистрированная организация': '',\n",
      " 'Зарегистрированный владелец': 'User',\n",
      " 'Изготовитель ОС': 'Microsoft Corporation',\n",
      " 'Изготовитель системы': 'LENOVO',\n",
      " 'Имя подключения': 'Подключение по локальной сети',\n",
      " 'Имя узла': 'Comp1',\n",
      " 'Исправление(я)': 'Число установленных исправлений - 74.',\n",
      " 'Код продукта': '00971-OEM-1982661-00231',\n",
      " 'Модель системы': '3538F2G',\n",
      " 'Название ОС': 'Microsoft Windows 7 Профессиональная ',\n",
      " 'Неизвестные сетевые адаптеры': 'Число сетевых адаптеров - 1.',\n",
      " 'Папка Windows': 'C:\\\\Windows',\n",
      " 'Параметры ОС': 'Рядовая рабочая станция',\n",
      " 'Полный объем физической памяти': '3 914 МБ',\n",
      " 'Процессор(ы)': 'Число процессоров - 1.',\n",
      " 'Расположение файла подкачки': 'Н/Д',\n",
      " 'Сборка ОС': 'Multiprocessor Free',\n",
      " 'Сервер входа в сеть': 'Н/Д',\n",
      " 'Системная папка': 'C:\\\\Windows\\\\system32',\n",
      " 'Тип системы': 'x64-based PC',\n",
      " 'Устройство загрузки': '\\\\Device\\\\HarddiskVolume1',\n",
      " 'Часовой пояс': '(UTC+04:00) Волгоград, Москва, Санкт-Петербург',\n",
      " 'Язык ввода': 'en-us;Английский (США)',\n",
      " 'Язык системы': 'ru;Русский'}\n"
     ]
    }
   ],
   "source": [
    "#прочитаем, что мы сохранили \n",
    "\n",
    "with open('data1/dictyaml.yml') as file:\n",
    "    pprint(yaml.safe_load(file))"
   ]
  },
  {
   "cell_type": "code",
   "execution_count": null,
   "metadata": {},
   "outputs": [],
   "source": []
  }
 ],
 "metadata": {
  "kernelspec": {
   "display_name": "Python 3",
   "language": "python",
   "name": "python3"
  },
  "language_info": {
   "codemirror_mode": {
    "name": "ipython",
    "version": 3
   },
   "file_extension": ".py",
   "mimetype": "text/x-python",
   "name": "python",
   "nbconvert_exporter": "python",
   "pygments_lexer": "ipython3",
   "version": "3.7.3"
  }
 },
 "nbformat": 4,
 "nbformat_minor": 2
}
