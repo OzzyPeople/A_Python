{
 "cells": [
  {
   "cell_type": "markdown",
   "metadata": {},
   "source": [
    "Практическая работа\n",
    "\n",
    "Реализовать простое клиент-серверное взаимодействие по протоколу JIM (JSON instant messaging):\n",
    "1 клиент отправляет запрос серверу;\n",
    "2 сервер отвечает соответствующим кодом результата. Клиент и сервер должны быть реализованы в виде отдельных скриптов, содержащих соответствующие функции.\n",
    "\n",
    "Функции клиента:\n",
    "\n",
    "1) сформировать presence-сообщение; отправить сообщение серверу; получить ответ сервера; разобрать сообщение сервера; параметры командной строки скрипта client.py []: addr — ip-адрес сервера; port — tcp-порт на сервере, по умолчанию 7777."
   ]
  },
  {
   "cell_type": "markdown",
   "metadata": {},
   "source": [
    "**Клиентский запрос**"
   ]
  },
  {
   "cell_type": "code",
   "execution_count": null,
   "metadata": {},
   "outputs": [],
   "source": [
    "import yaml\n",
    "import sys\n",
    "import socket\n",
    "import json\n",
    "from argparse import ArgumentParser #парсить аргументы\n",
    "\n",
    "\n",
    "def request(text):\n",
    "    return{\n",
    "        'data': text\n",
    "    }\n",
    "\n",
    "if __name__ == '__main__':\n",
    "    config = {\n",
    "        'host': 'localhost',\n",
    "        'port': 7777,\n",
    "        'buffersize': 1024\n",
    "    }\n",
    "\n",
    "    parser = ArgumentParser()\n",
    "    parser.add_argument('-c', '--config', type = str, required=False,\n",
    "                        help='sets config path')\n",
    "    parser.add_argument('-ht', '--host', type=str, required=False,\n",
    "                        help='sets server host')\n",
    "    parser.add_argument('-p', '--port', type=str, required=False,\n",
    "                        help='sets server port')\n",
    "\n",
    "\n",
    "    #1:20\n",
    "\n",
    "    #аргументы представляет из себя объект name space(своеобразный итератор), которые позволяют обращаться к своим значениям по ключу\n",
    "    #если обращаемся к какому-то атрибуту name space то мы обращаемся к какому-то ключу\n",
    "    #значения ключа может и не быть, но не значит, что атрибута в namespaсу нет, поэтому мы проверяем существование значения\n",
    "    #эдля этого атрибуета - if args.config:\n",
    "\n",
    "\n",
    "\n",
    "    args = parser.parse_args() #приступаем к объектам парсинга\n",
    "\n",
    "    if args.config: #and os.path.isfile(args.config\n",
    "        with open(args.config) as file: #импортируем конфигурацию сервера\n",
    "            file_config = yaml.safe_load(file)\n",
    "            config.update(file_config) or {}#обновляем дефолтную конфигурацию или передаем, что нечего обновлять\n",
    "\n",
    "    #Перепроверяем, что у нас есть значения port, host из файла и если нет, то берем их из словаря\n",
    "\n",
    "    host = args.host if args.config else config.get('host')\n",
    "    port = args.port if args.config else config.get('port')\n",
    "    buffersize = config.get('buffersize')\n",
    "    sock = socket.socket() #реализуем стрим TCP/IP socket - создали объект\n",
    "    sock.connect((host, port))\n",
    "\n",
    "    message = input('Введите ваше сообщение')\n",
    "    request = request(message)\n",
    "    string_request = json.dumps(request)\n",
    "\n",
    "    sock.send(string_request.encode())\n",
    "\n",
    "    #надеемся получить от сервера ответ\n",
    "    bytes_response = sock.recv(buffersize)\n",
    "\n",
    "    #загружаем содержимое ответа нашего сервера\n",
    "    response = json.loads(bytes_response)\n",
    "    print(response)\n",
    "\n",
    "    sock.close()"
   ]
  }
 ],
 "metadata": {
  "kernelspec": {
   "display_name": "Python 3",
   "language": "python",
   "name": "python3"
  },
  "language_info": {
   "codemirror_mode": {
    "name": "ipython",
    "version": 3
   },
   "file_extension": ".py",
   "mimetype": "text/x-python",
   "name": "python",
   "nbconvert_exporter": "python",
   "pygments_lexer": "ipython3",
   "version": "3.7.3"
  }
 },
 "nbformat": 4,
 "nbformat_minor": 2
}
