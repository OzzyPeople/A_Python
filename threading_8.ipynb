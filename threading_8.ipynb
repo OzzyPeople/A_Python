{
 "cells": [
  {
   "cell_type": "code",
   "execution_count": 1,
   "metadata": {},
   "outputs": [],
   "source": [
    "import time\n",
    "import threading\n",
    "import multiprocessing"
   ]
  },
  {
   "cell_type": "code",
   "execution_count": 2,
   "metadata": {},
   "outputs": [],
   "source": [
    "THREADS_COUNT = 5"
   ]
  },
  {
   "cell_type": "code",
   "execution_count": 3,
   "metadata": {},
   "outputs": [],
   "source": [
    "def sample(name, num):\n",
    "    for idx in range(1, num+1):\n",
    "        time.sleep(1) #усыпляем поток на 1 сек\n",
    "        print(f'{name} was called {idx} times')"
   ]
  },
  {
   "cell_type": "code",
   "execution_count": 4,
   "metadata": {},
   "outputs": [
    {
     "name": "stdout",
     "output_type": "stream",
     "text": [
      "cell-1 was called 1 times\n",
      "cell-1 was called 2 times\n",
      "cell-1 was called 3 times\n",
      "cell-1 was called 4 times\n",
      "cell-1 was called 5 times\n"
     ]
    }
   ],
   "source": [
    "sample('cell-1', 5)"
   ]
  },
  {
   "cell_type": "code",
   "execution_count": 5,
   "metadata": {},
   "outputs": [
    {
     "name": "stdout",
     "output_type": "stream",
     "text": [
      "thread was called 1 times\n",
      "thread was called 2 times\n",
      "thread was called 3 times\n",
      "thread was called 4 times\n",
      "thread was called 5 times\n",
      "thread was called 6 times\n",
      "thread was called 7 times\n",
      "thread was called 8 times\n",
      "thread was called 9 times\n",
      "thread was called 10 times\n"
     ]
    }
   ],
   "source": [
    "# аргументы - название функции target=sample и ее аргументы args=('thread', 10)\n",
    "thread = threading.Thread(target=sample, args=('thread', 10))\n",
    "thread.start()"
   ]
  },
  {
   "cell_type": "code",
   "execution_count": 6,
   "metadata": {},
   "outputs": [
    {
     "name": "stdout",
     "output_type": "stream",
     "text": [
      "thread was called 1 timescell-2 was called 1 times\n",
      "\n",
      "thread was called 2 timescell-2 was called 2 times\n",
      "\n",
      "thread was called 3 times\n",
      "cell-2 was called 3 times\n",
      "thread was called 4 timescell-2 was called 4 times\n",
      "\n",
      "cell-2 was called 5 timesthread was called 5 times\n",
      "\n",
      "thread was called 6 times\n",
      "thread was called 7 times\n",
      "thread was called 8 times\n",
      "thread was called 9 times\n",
      "thread was called 10 times\n"
     ]
    }
   ],
   "source": [
    "#Запуск параллельных потоков - \n",
    "\n",
    "thread = threading.Thread(target=sample, args=('thread', 10))\n",
    "thread.start()\n",
    "\n",
    "sample('cell-2', 5)"
   ]
  },
  {
   "cell_type": "code",
   "execution_count": 8,
   "metadata": {},
   "outputs": [
    {
     "name": "stdout",
     "output_type": "stream",
     "text": [
      "thread-0 was called 1 timesthread-1 was called 1 timesthread-2 was called 1 times\n",
      "\n",
      "\n",
      "thread-3 was called 1 timesthread-4 was called 1 times\n",
      "\n",
      "thread-2 was called 2 timesthread-0 was called 2 timesthread-1 was called 2 times\n",
      "\n",
      "\n",
      "thread-3 was called 2 times\n",
      "thread-4 was called 2 times\n",
      "thread-2 was called 3 timesthread-1 was called 3 timesthread-0 was called 3 times\n",
      "\n",
      "\n",
      "thread-3 was called 3 times\n",
      "thread-4 was called 3 times\n",
      "thread-1 was called 4 times\n",
      "thread-2 was called 4 times\n",
      "thread-3 was called 4 timesthread-4 was called 4 times\n",
      "\n",
      "thread-2 was called 5 times\n",
      "thread-3 was called 5 timesthread-4 was called 5 times\n",
      "\n",
      "thread-3 was called 6 timesthread-4 was called 6 times\n",
      "\n",
      "thread-4 was called 7 times\n"
     ]
    }
   ],
   "source": [
    "for idx in range(THREADS_COUNT):\n",
    "    num = 3 + idx #количество итераций в каждом потоке\n",
    "    name = f'thread-{idx}'\n",
    "    thread = threading.Thread(target=sample, args=(name, num))\n",
    "    thread.start()"
   ]
  },
  {
   "cell_type": "code",
   "execution_count": 9,
   "metadata": {},
   "outputs": [],
   "source": [
    "lock = threading.Lock() # блокировка коллизий\n",
    "\n",
    "def sample(name, num):\n",
    "    for idx in range(1, num+1):\n",
    "        time.sleep(1)\n",
    "        lock.acquire()\n",
    "        print(f'{name} was called {idx} times')\n",
    "        lock.release() #останавливает выполнение всех параллельных потоков"
   ]
  },
  {
   "cell_type": "code",
   "execution_count": 10,
   "metadata": {},
   "outputs": [
    {
     "name": "stdout",
     "output_type": "stream",
     "text": [
      "thread-1 was called 1 times\n",
      "thread-3 was called 1 times\n",
      "thread-2 was called 1 times\n",
      "thread-0 was called 1 times\n",
      "thread-4 was called 1 times\n",
      "thread-1 was called 2 times\n",
      "thread-2 was called 2 times\n",
      "thread-0 was called 2 times\n",
      "thread-3 was called 2 times\n",
      "thread-4 was called 2 times\n",
      "thread-2 was called 3 times\n",
      "thread-1 was called 3 times\n",
      "thread-0 was called 3 times\n",
      "thread-3 was called 3 times\n",
      "thread-4 was called 3 times\n",
      "thread-2 was called 4 times\n",
      "thread-1 was called 4 times\n",
      "thread-3 was called 4 times\n",
      "thread-4 was called 4 times\n",
      "thread-2 was called 5 times\n",
      "thread-3 was called 5 times\n",
      "thread-4 was called 5 times\n",
      "thread-3 was called 6 times\n",
      "thread-4 was called 6 times\n",
      "thread-4 was called 7 times\n"
     ]
    }
   ],
   "source": [
    "for idx in range(THREADS_COUNT):\n",
    "    num = 3 + idx\n",
    "    name = f'thread-{idx}'\n",
    "    thread = threading.Thread(target=sample, args=(name, num))\n",
    "    thread.start()"
   ]
  },
  {
   "cell_type": "code",
   "execution_count": 18,
   "metadata": {},
   "outputs": [],
   "source": [
    "collection = [1,2,3,4,5,6,7,8,9]*3\n",
    "\n",
    "def proccess_sample(name):\n",
    "    print(f'{name} -- последний элемент из collection под номером -  {collection.pop()}')"
   ]
  },
  {
   "cell_type": "code",
   "execution_count": 19,
   "metadata": {},
   "outputs": [
    {
     "name": "stdout",
     "output_type": "stream",
     "text": [
      "procc--0 -- последний элемент из collection под номером -  9\n",
      "procc--1 -- последний элемент из collection под номером -  9\n"
     ]
    }
   ],
   "source": [
    "for idx in range(2):\n",
    "    name = f'procc--{idx}'\n",
    "    procc = multiprocessing.Process(target=proccess_sample, args=(name,))\n",
    "    procc.start()"
   ]
  },
  {
   "cell_type": "code",
   "execution_count": null,
   "metadata": {},
   "outputs": [],
   "source": []
  }
 ],
 "metadata": {
  "kernelspec": {
   "display_name": "Python 3",
   "language": "python",
   "name": "python3"
  },
  "language_info": {
   "codemirror_mode": {
    "name": "ipython",
    "version": 3
   },
   "file_extension": ".py",
   "mimetype": "text/x-python",
   "name": "python",
   "nbconvert_exporter": "python",
   "pygments_lexer": "ipython3",
   "version": "3.7.3"
  }
 },
 "nbformat": 4,
 "nbformat_minor": 2
}
