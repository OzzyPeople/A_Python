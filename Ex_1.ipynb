{
 "cells": [
  {
   "cell_type": "code",
   "execution_count": 20,
   "metadata": {},
   "outputs": [],
   "source": [
    "import chardet #распознования кодировки "
   ]
  },
  {
   "cell_type": "code",
   "execution_count": 3,
   "metadata": {},
   "outputs": [],
   "source": [
    "d = 'матрицы называется максимальное число линейно независимых строк этой матрицы.'"
   ]
  },
  {
   "cell_type": "code",
   "execution_count": 6,
   "metadata": {},
   "outputs": [],
   "source": [
    "c = d.encode()"
   ]
  },
  {
   "cell_type": "code",
   "execution_count": 8,
   "metadata": {},
   "outputs": [
    {
     "data": {
      "text/plain": [
       "{'encoding': 'utf-8', 'confidence': 0.99, 'language': ''}"
      ]
     },
     "execution_count": 8,
     "metadata": {},
     "output_type": "execute_result"
    }
   ],
   "source": [
    "chardet.detect(c)"
   ]
  },
  {
   "cell_type": "markdown",
   "metadata": {},
   "source": [
    "**Практическое задание**"
   ]
  },
  {
   "cell_type": "markdown",
   "metadata": {},
   "source": [
    "1. Каждое из слов «разработка», «сокет», «декоратор» представить в строковом формате и проверить тип и содержание соответствующих переменных. Затем с помощью онлайн-конвертера преобразовать строковые представление в формат Unicode и также проверить тип и содержимое переменных."
   ]
  },
  {
   "cell_type": "code",
   "execution_count": 14,
   "metadata": {},
   "outputs": [
    {
     "name": "stdout",
     "output_type": "stream",
     "text": [
      "[<class 'str'>, <class 'str'>, <class 'str'>]\n"
     ]
    }
   ],
   "source": [
    "w1 =['разработка', 'сокет', 'декоратор']\n",
    "print ([type(x) for x in w1])"
   ]
  },
  {
   "cell_type": "code",
   "execution_count": 20,
   "metadata": {},
   "outputs": [
    {
     "name": "stdout",
     "output_type": "stream",
     "text": [
      "[<class 'bytes'>, <class 'bytes'>, <class 'bytes'>]\n",
      "[b'\\xd1\\x80\\xd0\\xb0\\xd0\\xb7\\xd1\\x80\\xd0\\xb0\\xd0\\xb1\\xd0\\xbe\\xd1\\x82\\xd0\\xba\\xd0\\xb0', b'\\xd1\\x81\\xd0\\xbe\\xd0\\xba\\xd0\\xb5\\xd1\\x82', b'\\xd0\\xb4\\xd0\\xb5\\xd0\\xba\\xd0\\xbe\\xd1\\x80\\xd0\\xb0\\xd1\\x82\\xd0\\xbe\\xd1\\x80']\n"
     ]
    }
   ],
   "source": [
    "w2 = [x.encode('utf-8') for x in w1]\n",
    "print ([type(x) for x in w2])\n",
    "print ([x for x in w2])"
   ]
  },
  {
   "cell_type": "markdown",
   "metadata": {},
   "source": [
    "2. Каждое из слов «class», «function», «method» записать в байтовом типе без преобразования в последовательность кодов (не используя методы encode и decode) и определить тип, содержимое и длину соответствующих переменных."
   ]
  },
  {
   "cell_type": "code",
   "execution_count": 23,
   "metadata": {},
   "outputs": [],
   "source": [
    "w3 = [b'class', b'function', b'method']"
   ]
  },
  {
   "cell_type": "code",
   "execution_count": 31,
   "metadata": {},
   "outputs": [
    {
     "name": "stdout",
     "output_type": "stream",
     "text": [
      "[<class 'bytes'>, <class 'bytes'>, <class 'bytes'>]\n",
      "[b'class', b'function', b'method']\n"
     ]
    }
   ],
   "source": [
    "print ([type(x) for x in w3])\n",
    "print ([x for x in w3])"
   ]
  },
  {
   "cell_type": "code",
   "execution_count": 30,
   "metadata": {},
   "outputs": [
    {
     "name": "stdout",
     "output_type": "stream",
     "text": [
      "[5, 8, 6]\n"
     ]
    }
   ],
   "source": [
    "print ([len(x) for x in w3])"
   ]
  },
  {
   "cell_type": "markdown",
   "metadata": {},
   "source": [
    "3. Определить, какие из слов «attribute», «класс», «функция», «type» невозможно записать в байтовом типе"
   ]
  },
  {
   "cell_type": "code",
   "execution_count": 26,
   "metadata": {},
   "outputs": [
    {
     "ename": "SyntaxError",
     "evalue": "bytes can only contain ASCII literal characters. (<ipython-input-26-60997aa34715>, line 1)",
     "output_type": "error",
     "traceback": [
      "\u001b[0;36m  File \u001b[0;32m\"<ipython-input-26-60997aa34715>\"\u001b[0;36m, line \u001b[0;32m1\u001b[0m\n\u001b[0;31m    w4 = [b'attribute', b'класс', b'функция', b'type']\u001b[0m\n\u001b[0m                       ^\u001b[0m\n\u001b[0;31mSyntaxError\u001b[0m\u001b[0;31m:\u001b[0m bytes can only contain ASCII literal characters.\n"
     ]
    }
   ],
   "source": [
    "w4 = [b'attribute', b'класс', b'функция', b'type']"
   ]
  },
  {
   "cell_type": "markdown",
   "metadata": {},
   "source": [
    "Ответ: на русском языке нельзя записать в байтах"
   ]
  },
  {
   "cell_type": "markdown",
   "metadata": {},
   "source": [
    "4. Преобразовать слова «разработка», «администрирование», «protocol», «standard» из строкового представления в байтовое и выполнить обратное преобразование (используя методы encode и decode)."
   ]
  },
  {
   "cell_type": "code",
   "execution_count": 32,
   "metadata": {},
   "outputs": [],
   "source": [
    "w4 = ['разработка', 'администрирование', 'protocol', 'standard']"
   ]
  },
  {
   "cell_type": "code",
   "execution_count": 36,
   "metadata": {},
   "outputs": [],
   "source": [
    "w5 = [x.encode('utf-8') for x in w4]"
   ]
  },
  {
   "cell_type": "code",
   "execution_count": 37,
   "metadata": {},
   "outputs": [
    {
     "data": {
      "text/plain": [
       "['разработка', 'администрирование', 'protocol', 'standard']"
      ]
     },
     "execution_count": 37,
     "metadata": {},
     "output_type": "execute_result"
    }
   ],
   "source": [
    "[x.decode() for x in w5]"
   ]
  },
  {
   "cell_type": "markdown",
   "metadata": {},
   "source": [
    "5. Выполнить пинг веб-ресурсов yandex.ru, youtube.com и преобразовать результаты из байтовового в строковый тип на кириллице."
   ]
  },
  {
   "cell_type": "code",
   "execution_count": 24,
   "metadata": {},
   "outputs": [
    {
     "name": "stdout",
     "output_type": "stream",
     "text": [
      "['PING yandex.ru (77.88.55.66): 56 data bytes\\n', '64 bytes from 77.88.55.66: icmp_seq=0 ttl=54 time=6.086 ms\\n', '64 bytes from 77.88.55.66: icmp_seq=1 ttl=54 time=5.803 ms\\n', '64 bytes from 77.88.55.66: icmp_seq=2 ttl=54 time=5.760 ms\\n', '64 bytes from 77.88.55.66: icmp_seq=3 ttl=54 time=5.009 ms\\n']\n"
     ]
    }
   ],
   "source": [
    "import subprocess\n",
    "\n",
    "args = ['ping', 'yandex.ru']\n",
    "subproc_ping = subprocess.Popen(args, stdout=subprocess.PIPE)\n",
    "lyandex = []\n",
    "\n",
    "for line in subproc_ping.stdout:\n",
    "    line = line.decode('utf-8')\n",
    "    lyandex.append(line)\n",
    "    if len(lyandex) == 5:\n",
    "        break\n",
    "print (lyandex)"
   ]
  },
  {
   "cell_type": "code",
   "execution_count": 25,
   "metadata": {},
   "outputs": [
    {
     "name": "stdout",
     "output_type": "stream",
     "text": [
      "['64 bytes from 77.88.55.66: icmp_seq=4 ttl=54 time=5.840 ms\\n']\n"
     ]
    }
   ],
   "source": [
    "args1 = ['ping', 'youtube.com']\n",
    "subproc_ping1 = subprocess.Popen(args, stdout=subprocess.PIPE)\n",
    "lyoutube = []\n",
    "\n",
    "for line in subproc_ping.stdout:\n",
    "    line = line.decode('utf-8')\n",
    "    lyoutube.append(line)\n",
    "    if len(lyandex) == 5:\n",
    "        break\n",
    "print (lyoutube)"
   ]
  },
  {
   "cell_type": "markdown",
   "metadata": {},
   "source": [
    "6. Создать текстовый файл test_file.txt, заполнить его тремя строками: «сетевое программирование», «сокет», «декоратор». Проверить кодировку файла по умолчанию. Принудительно открыть файл в формате Unicode и вывести его содержимое."
   ]
  },
  {
   "cell_type": "code",
   "execution_count": 15,
   "metadata": {},
   "outputs": [],
   "source": [
    "ltext = ['сетевое программирование', 'сокет', 'декоратор']\n",
    "f= open(\"test_file.txt\",\"w+\")\n",
    "for i in range(len(ltext)):\n",
    "    f.write(ltext[i])\n",
    "    f.write(\"\\n\")\n",
    "f.close()"
   ]
  },
  {
   "cell_type": "code",
   "execution_count": 9,
   "metadata": {},
   "outputs": [
    {
     "name": "stdout",
     "output_type": "stream",
     "text": [
      "UTF-8\n"
     ]
    }
   ],
   "source": [
    "import locale\n",
    "\n",
    "def_coding = locale.getpreferredencoding()\n",
    "print(def_coding)"
   ]
  },
  {
   "cell_type": "code",
   "execution_count": 16,
   "metadata": {},
   "outputs": [
    {
     "name": "stdout",
     "output_type": "stream",
     "text": [
      "<_io.TextIOWrapper name='test_file.txt' mode='w+' encoding='UTF-8'>\n"
     ]
    }
   ],
   "source": [
    "#Проверяем кодировку файла \n",
    "print (f)"
   ]
  },
  {
   "cell_type": "code",
   "execution_count": 17,
   "metadata": {},
   "outputs": [
    {
     "name": "stdout",
     "output_type": "stream",
     "text": [
      "сетевое программирование\n",
      "сокет\n",
      "декоратор\n"
     ]
    }
   ],
   "source": [
    "#Принудительно открыть файл в формате Unicode и вывести его содержимое\n",
    "with open('test_file.txt', encoding='utf-8') as f_n:\n",
    "    for el_str in f_n:\n",
    "        print(el_str, end='')"
   ]
  },
  {
   "cell_type": "code",
   "execution_count": null,
   "metadata": {},
   "outputs": [],
   "source": []
  }
 ],
 "metadata": {
  "kernelspec": {
   "display_name": "Python 3",
   "language": "python",
   "name": "python3"
  },
  "language_info": {
   "codemirror_mode": {
    "name": "ipython",
    "version": 3
   },
   "file_extension": ".py",
   "mimetype": "text/x-python",
   "name": "python",
   "nbconvert_exporter": "python",
   "pygments_lexer": "ipython3",
   "version": "3.7.3"
  }
 },
 "nbformat": 4,
 "nbformat_minor": 2
}
