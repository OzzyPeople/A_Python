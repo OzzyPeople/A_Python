{
 "cells": [
  {
   "cell_type": "markdown",
   "metadata": {},
   "source": [
    "Практическая работа <br>\n",
    "\n",
    "Реализовать простое клиент-серверное взаимодействие по протоколу JIM (JSON instant messaging):<br>\n",
    "1 клиент отправляет запрос серверу;<br>\n",
    "2 сервер отвечает соответствующим кодом результата. Клиент и сервер должны быть реализованы в виде отдельных скриптов, содержащих соответствующие функции. <br>\n",
    "\n",
    "Функции клиента: <br>\n",
    "\n",
    "1) сформировать presence-сообщение; отправить сообщение серверу; получить ответ сервера; разобрать сообщение сервера; параметры командной строки скрипта client.py <addr> [<port>]: addr — ip-адрес сервера; port — tcp-порт на сервере, по умолчанию 7777. <br>\n",
    "    \n",
    "Функции сервера: <br>\n",
    "\n",
    "принимает сообщение клиента; формирует ответ клиенту; отправляет ответ клиенту; имеет параметры командной строки: -p <port> — TCP-порт для работы (по умолчанию использует 7777); -a <addr> — IP-адрес для прослушивания (по умолчанию слушает все доступные адреса).<br>\n",
    "    \n",
    "Необходимые и достаточные условия<br>\n",
    "\n",
    "Реализовать конфигурируемый клиент;<br>\n",
    "Реализовать echo-сервер.<br>"
   ]
  },
  {
   "cell_type": "code",
   "execution_count": null,
   "metadata": {},
   "outputs": [],
   "source": []
  },
  {
   "cell_type": "markdown",
   "metadata": {},
   "source": [
    "Представленная связка серверного и клиентского сокетов реализуют вариант простейшего сетевого взаимодействия: клиент запрашивает соединение с сервером и отправляет ему строковые данные. Сервер получает это строковое сообщение и возвращает его обратно на клиентскую сторону."
   ]
  },
  {
   "cell_type": "markdown",
   "metadata": {},
   "source": [
    "Серверная программа (файл examples/01_sockets/data_server.py): "
   ]
  },
  {
   "cell_type": "code",
   "execution_count": null,
   "metadata": {},
   "outputs": [],
   "source": [
    "# Программа сервера для получения приветствия от клиента и отправки ответа\n",
    "from socket import *\n",
    "import time\n",
    "\n",
    "s = socket(AF_INET, SOCK_STREAM)  # Создает сокет TCP\n",
    "s.bind(('', 8007))                # Присваивает порт 8888 - изменить порт на 7777\n",
    "s.listen(5)                       # Переходит в режим ожидания запросов;\n",
    "                                  # Одновременно обслуживает не более\n",
    "                                  # 5 запросов.\n",
    "while True:\n",
    "    client, addr = s.accept()\n",
    "    data = client.recv(1000000)\n",
    "    print('Сообщение: ', data.decode('utf-8'), ', было отправлено клиентом: ', addr)\n",
    "    msg = 'Привет, клиент'\n",
    "    client.send(msg.encode('utf-8'))\n",
    "    client.close()"
   ]
  },
  {
   "cell_type": "markdown",
   "metadata": {},
   "source": [
    "Клиентская программа (файл examples/01_sockets/data_client.py): "
   ]
  },
  {
   "cell_type": "code",
   "execution_count": null,
   "metadata": {},
   "outputs": [],
   "source": [
    "# Программа клиента для отправки приветствия серверу и получения ответа\n",
    "from socket import *\n",
    "\n",
    "s = socket(AF_INET, SOCK_STREAM)  # Создать сокет TCP\n",
    "s.connect(('localhost', 8007))   # Соединиться с сервером изменить порт на 7777\n",
    "msg = 'Привет, сервер'\n",
    "s.send(msg.encode('utf-8'))\n",
    "data = s.recv(1000000)\n",
    "print('Сообщение от сервера: ', data.decode('utf-8'), ', длиной ', len(data), ' байт')\n",
    "s.close()"
   ]
  }
 ],
 "metadata": {
  "kernelspec": {
   "display_name": "Python 3",
   "language": "python",
   "name": "python3"
  },
  "language_info": {
   "codemirror_mode": {
    "name": "ipython",
    "version": 3
   },
   "file_extension": ".py",
   "mimetype": "text/x-python",
   "name": "python",
   "nbconvert_exporter": "python",
   "pygments_lexer": "ipython3",
   "version": "3.7.3"
  }
 },
 "nbformat": 4,
 "nbformat_minor": 2
}
